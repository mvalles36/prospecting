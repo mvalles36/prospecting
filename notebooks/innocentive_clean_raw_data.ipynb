{
 "cells": [
  {
   "cell_type": "code",
   "execution_count": 1,
   "metadata": {
    "collapsed": false
   },
   "outputs": [],
   "source": [
    "import os\n",
    "import sys\n",
    "import pandas as pd\n",
    "\n",
    "sys.path.insert(1,'C:/Users/Reid/projects/prospecting/repo/prospecting')  # Hack to point to prospecting package\n",
    "import prospecting as p"
   ]
  },
  {
   "cell_type": "code",
   "execution_count": 2,
   "metadata": {
    "collapsed": false
   },
   "outputs": [
    {
     "name": "stdout",
     "output_type": "stream",
     "text": [
      "prospecting.api: INFO     Reading discovery file for sheets:v4\n",
      "prospecting.api: INFO     Authenticating...sheets, v4\n",
      "prospecting.api: INFO     Getting credentials...\n",
      "prospecting.api: INFO     Building service object...\n",
      "prospecting.api: INFO     Service object built...<googleapiclient.discovery.Resource object at 0x0000016A384944A8>\n",
      "prospecting.api: INFO     Successfully authenticated...sheets, v4\n",
      "prospecting.api: INFO     Spreadsheet loaded.\n",
      "prospecting.api: INFO     Sheets include: ['metadata', 'raw_descr', 'clean_descr', 'dummified_descr']\n"
     ]
    }
   ],
   "source": [
    "# Initialize spreadsheet\n",
    "# View spreadsheet here:  https://docs.google.com/spreadsheets/d/17R9V5tefzFzMXBi2i9SOybhqwzF7PSlse9OO99BfDxQ\n",
    "ss = p.SheetsApi(spreadsheetid = '17R9V5tefzFzMXBi2i9SOybhqwzF7PSlse9OO99BfDxQ',\n",
    "                 scopelist=['https://www.googleapis.com/auth/spreadsheets',\n",
    "                            'https://www.googleapis.com/auth/drive.metadata'])\n",
    "ss.authenticate()\n",
    "ss.info = ss.get_ss_info()\n",
    "#ss.sheets = ss.load_sheets(['metadata', 'raw_descr', 'clean_descr', 'dummified_descr'])  # loads sheets as pandas DataFrames"
   ]
  },
  {
   "cell_type": "code",
   "execution_count": 3,
   "metadata": {
    "collapsed": false
   },
   "outputs": [],
   "source": [
    "# Load raw dataset\n",
    "innocentive_csv_dir = os.path.join(os.environ['HOME'], 'data', 'innocentive', 'csv')\n",
    "SOURCE_CSV = os.path.join(innocentive_csv_dir, 'InnoCentive_Challenge_9933493_training_data.csv')\n",
    "\n",
    "df_raw = pd.read_csv(SOURCE_CSV,\n",
    "                     index_col='record_ID',\n",
    "                     decimal='.',\n",
    "                     thousands=\",\")\n",
    "\n",
    "df_raw.__name__ = 'df_raw'"
   ]
  },
  {
   "cell_type": "code",
   "execution_count": 4,
   "metadata": {
    "collapsed": false
   },
   "outputs": [
    {
     "name": "stdout",
     "output_type": "stream",
     "text": [
      "prospecting.report: INFO     Creating description for df_raw\n",
      "prospecting.report: INFO     Success! \"column_name\" added to description at column position [0]\n",
      "prospecting.report: INFO     Success! \"dtype\" added to description at column position [1]\n",
      "prospecting.report: INFO     Success! \"missing_count\" added to description at column position [4]\n",
      "prospecting.report: INFO     Description created for df_raw\n",
      "prospecting.api: INFO     Update Successful!\n"
     ]
    }
   ],
   "source": [
    "# Create description of df_raw and update `raw_descr` sheet in spreadsheet\n",
    "raw_descr = p.create_description(df_raw)\n",
    "raw_descr_sheet_range = \"\".join(['raw_descr!E:', (chr(ord('E') + raw_descr.shape[1] - 1))])\n",
    "ss.update(raw_descr, raw_descr_sheet_range)\n",
    "ss.sheets['raw_descr'] = ss.get('raw_descr')"
   ]
  },
  {
   "cell_type": "markdown",
   "metadata": {},
   "source": [
    "---\n",
    "##### Interlude...\n",
    "\n",
    "> At this point, I check out the `raw_descr` sheet and (at a bare minimum) set the `keep_flag` to indicate whether or not I want to drop the column when processing the dataset. I may also revisit options passed to `pd.read_csv()` as needed (ex. indicate which column should be used as the index).\n",
    "> \n",
    "> Next, I populate the `metadata` sheet by first ensuring that all columns from the `raw_descr` sheet are listed under `column_name`, and then populate the configuration details for each column.\n",
    ">\n",
    "> Once I am satisfied with the configuration in the `metadata` sheet, I load the metadata so that I can pass the most up-to-date processing logic to the `clean_data` function.\n",
    "\n",
    "---"
   ]
  },
  {
   "cell_type": "code",
   "execution_count": 5,
   "metadata": {
    "collapsed": true
   },
   "outputs": [],
   "source": [
    "# Get most up-to-date processing logic as configured in the metadata sheet\n",
    "md = ss.get('metadata', headerrow=1)"
   ]
  },
  {
   "cell_type": "code",
   "execution_count": 6,
   "metadata": {
    "collapsed": false
   },
   "outputs": [
    {
     "name": "stdout",
     "output_type": "stream",
     "text": [
      "prospecting.process: INFO     Cleaning data...\n",
      "prospecting.process: INFO     Dropping rows with NA for columns []\n",
      "prospecting.process: INFO     Converting C3 int to object...\n",
      "prospecting.process: INFO     Filling columns with NA\n",
      "prospecting.process: INFO     Converting string to int columns\n",
      "prospecting.process: INFO     Data cleaned...\n",
      "prospecting.report: INFO     Creating description for df_clean\n",
      "prospecting.report: INFO     Success! \"column_name\" added to description at column position [0]\n",
      "prospecting.report: INFO     Success! \"dtype\" added to description at column position [1]\n",
      "prospecting.report: INFO     Success! \"missing_count\" added to description at column position [4]\n",
      "prospecting.report: INFO     Description created for df_clean\n"
     ]
    }
   ],
   "source": [
    "# clean df_raw, describe df_clean, create custom sheet range to control where data is written in sheet\n",
    "df_clean = p.process.clean_data(df_raw, md)\n",
    "clean_descr = p.create_description(df_clean)\n",
    "clean_descr_sheet_range = \"\".join(['clean_descr!A:', (chr(ord('A') + raw_descr.shape[1] - 1))])\n",
    "# For the sheet range, you can also just pass the sheet name (ex. 'clean_descr')\n",
    "# if you don't need finite control over where data is written within a sheet"
   ]
  },
  {
   "cell_type": "code",
   "execution_count": 7,
   "metadata": {
    "collapsed": false
   },
   "outputs": [
    {
     "name": "stdout",
     "output_type": "stream",
     "text": [
      "prospecting.api: INFO     Update Successful!\n"
     ]
    }
   ],
   "source": [
    "ss.update(clean_descr, clean_descr_sheet_range)  # Check `clean_descr` sheet in spreadsheet to see df_clean description\n",
    "ss.sheets['clean_descr'] = ss.get('clean_descr')"
   ]
  },
  {
   "cell_type": "code",
   "execution_count": 8,
   "metadata": {
    "collapsed": false
   },
   "outputs": [
    {
     "name": "stdout",
     "output_type": "stream",
     "text": [
      "(642709, 308)\n"
     ]
    }
   ],
   "source": [
    "innocentive_dummified = pd.get_dummies(df_clean)\n",
    "print(innocentive_dummified.shape)"
   ]
  },
  {
   "cell_type": "code",
   "execution_count": 9,
   "metadata": {
    "collapsed": false
   },
   "outputs": [
    {
     "name": "stdout",
     "output_type": "stream",
     "text": [
      "prospecting.report: INFO     Creating description for innocentive_dummified\n",
      "prospecting.report: INFO     Success! \"column_name\" added to description at column position [0]\n",
      "prospecting.report: INFO     Success! \"dtype\" added to description at column position [1]\n",
      "prospecting.report: INFO     Success! \"missing_count\" added to description at column position [4]\n",
      "prospecting.report: INFO     Description created for innocentive_dummified\n",
      "prospecting.api: INFO     Update Successful!\n"
     ]
    }
   ],
   "source": [
    "innocentive_dummified.__name__ = 'innocentive_dummified'\n",
    "innocentive_dummified_descr = p.create_description(innocentive_dummified)\n",
    "ss.update(innocentive_dummified_descr, 'dummified_descr')\n",
    "ss.sheets['dummified_descr'] = ss.get('dummified_descr')"
   ]
  },
  {
   "cell_type": "code",
   "execution_count": 10,
   "metadata": {
    "collapsed": false
   },
   "outputs": [
    {
     "data": {
      "text/plain": [
       "(96406, 308)"
      ]
     },
     "execution_count": 10,
     "metadata": {},
     "output_type": "execute_result"
    }
   ],
   "source": [
    "# use a 15% subset of training data to use as an example\n",
    "subset = innocentive_dummified.sample(n=(int(innocentive_dummified.shape[0]*.15)))\n",
    "subset.shape"
   ]
  },
  {
   "cell_type": "code",
   "execution_count": 11,
   "metadata": {
    "collapsed": false
   },
   "outputs": [
    {
     "name": "stdout",
     "output_type": "stream",
     "text": [
      "prospecting.utils: INFO     Pickled object to: C:\\Users\\Reid\\projects\\prospecting\\repo\\prospecting\\data\\innocentive_dummified_96406_308.p\n"
     ]
    }
   ],
   "source": [
    "# Pickle dataset for later use\n",
    "p.utils.pckl(subset, \"innocentive_dummified\")"
   ]
  },
  {
   "cell_type": "markdown",
   "metadata": {},
   "source": [
    "---\n",
    "\n",
    "### APPENDIX"
   ]
  },
  {
   "cell_type": "code",
   "execution_count": null,
   "metadata": {
    "collapsed": true
   },
   "outputs": [],
   "source": [
    "#SOURCE_CSV = os.path.join(os.environ['DATADIR'], 'data.csv.gz')\n",
    "#SOURCE_CSV = \"https://storage.cloud.google.com/prospecting/data/innocentive/InnoCentive_Challenge_9933493_training_data.csv.gz\""
   ]
  }
 ],
 "metadata": {
  "anaconda-cloud": {},
  "kernelspec": {
   "display_name": "Python [conda root]",
   "language": "python",
   "name": "conda-root-py"
  },
  "language_info": {
   "codemirror_mode": {
    "name": "ipython",
    "version": 3
   },
   "file_extension": ".py",
   "mimetype": "text/x-python",
   "name": "python",
   "nbconvert_exporter": "python",
   "pygments_lexer": "ipython3",
   "version": "3.5.2"
  }
 },
 "nbformat": 4,
 "nbformat_minor": 1
}
